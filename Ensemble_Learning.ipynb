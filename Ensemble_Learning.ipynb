{
  "nbformat": 4,
  "nbformat_minor": 0,
  "metadata": {
    "colab": {
      "provenance": []
    },
    "kernelspec": {
      "name": "python3",
      "display_name": "Python 3"
    },
    "language_info": {
      "name": "python"
    }
  },
  "cells": [
    {
      "cell_type": "markdown",
      "source": [
        "## **Theoretical**\n",
        "\n",
        "Here are the **theoretical questions with concise answers** for your Ensemble Learning assignment:\n",
        "\n",
        "---\n",
        "\n",
        "**1. Can we use Bagging for regression problems?**\n",
        "Yes, Bagging can be used for regression by averaging predictions from multiple regressors to reduce variance.\n",
        "\n",
        "**2. What is the difference between multiple model training and single model training?**\n",
        "Multiple model training combines predictions from several models for better performance; single model training relies on one model, which may overfit or underperform.\n",
        "\n",
        "**3. Explain the concept of feature randomness in Random Forest.**\n",
        "At each split, Random Forest selects a random subset of features, increasing diversity and reducing correlation between trees.\n",
        "\n",
        "**4. What is OOB (Out-of-Bag) Score?**\n",
        "OOB score is an internal validation method in Bagging where each sample is validated using trees that didn’t see it during training.\n",
        "\n",
        "**5. How can you measure the importance of features in a Random Forest model?**\n",
        "By measuring the decrease in impurity or accuracy when a feature is used to split data across all trees.\n",
        "\n",
        "**6. Explain the working principle of a Bagging Classifier.**\n",
        "It trains multiple base classifiers on random bootstrap samples and aggregates their predictions via majority vote.\n",
        "\n",
        "**7. How do you evaluate a Bagging Classifier’s performance?**\n",
        "Using metrics like accuracy, precision, recall, F1-score, and possibly cross-validation or OOB score.\n",
        "\n",
        "**8. How does a Bagging Regressor work?**\n",
        "It trains regressors on different bootstrapped samples and averages their outputs to make predictions.\n",
        "\n",
        "**9. What is the main advantage of ensemble techniques?**\n",
        "Improved accuracy, robustness, and generalization by combining multiple models.\n",
        "\n",
        "**10. What is the main challenge of ensemble methods?**\n",
        "Increased complexity, computational cost, and reduced interpretability.\n",
        "\n",
        "**11. Explain the key idea behind ensemble techniques.**\n",
        "Combine multiple models to reduce variance, bias, or improve predictions beyond individual models.\n",
        "\n",
        "**12. What is a Random Forest Classifier?**\n",
        "An ensemble of decision trees trained with feature and data randomness, using majority voting for classification.\n",
        "\n",
        "**13. What are the main types of ensemble techniques?**\n",
        "Bagging, Boosting, and Stacking.\n",
        "\n",
        "**14. What is ensemble learning in machine learning?**\n",
        "A method that combines multiple models to produce better predictive performance than individual ones.\n",
        "\n",
        "**15. When should we avoid using ensemble methods?**\n",
        "When data is small, models are already highly accurate, or when interpretability and low computation are critical.\n",
        "\n",
        "**16. How does Bagging help in reducing overfitting?**\n",
        "By averaging diverse models trained on different data samples, reducing variance.\n",
        "\n",
        "**17. Why is Random Forest better than a single Decision Tree?**\n",
        "It reduces overfitting and variance by aggregating predictions from many trees trained with randomness.\n",
        "\n",
        "**18. What is the role of bootstrap sampling in Bagging?**\n",
        "It provides diverse training sets by sampling with replacement, encouraging model variance.\n",
        "\n",
        "**19. What are some real-world applications of ensemble techniques?**\n",
        "Fraud detection, recommendation systems, medical diagnosis, stock prediction, and image classification.\n",
        "\n",
        "**20. What is the difference between Bagging and Boosting?**\n",
        "Bagging trains models independently in parallel; Boosting trains sequentially with each model correcting the previous one.\n",
        "\n"
      ],
      "metadata": {
        "id": "ljjHhwfN-7-q"
      }
    },
    {
      "cell_type": "code",
      "source": [
        "## Practical questions"
      ],
      "metadata": {
        "id": "Cbyt38mNAFzi"
      },
      "execution_count": 1,
      "outputs": []
    },
    {
      "cell_type": "code",
      "source": [
        "# 1. Train a Bagging Classifier using Decision Trees on a sample dataset and print model accuracy\n",
        "from sklearn.datasets import load_iris\n",
        "from sklearn.ensemble import BaggingClassifier\n",
        "from sklearn.tree import DecisionTreeClassifier\n",
        "from sklearn.model_selection import train_test_split\n",
        "from sklearn.metrics import accuracy_score\n",
        "\n",
        "X, y = load_iris(return_X_y=True)\n",
        "X_train, X_test, y_train, y_test = train_test_split(X, y, random_state=42, stratify=y)\n",
        "\n",
        "bag_clf = BaggingClassifier(estimator=DecisionTreeClassifier(), n_estimators=50, random_state=42)\n",
        "bag_clf.fit(X_train, y_train)\n",
        "y_pred = bag_clf.predict(X_test)\n",
        "print(\"Bagging Classifier Accuracy:\", accuracy_score(y_test, y_pred))\n"
      ],
      "metadata": {
        "colab": {
          "base_uri": "https://localhost:8080/"
        },
        "id": "m1NOGBrbAIyh",
        "outputId": "17f898e7-40e5-4bd9-c464-5d36831e1458"
      },
      "execution_count": 12,
      "outputs": [
        {
          "output_type": "stream",
          "name": "stdout",
          "text": [
            "Bagging Classifier Accuracy: 0.9210526315789473\n"
          ]
        }
      ]
    },
    {
      "cell_type": "code",
      "source": [
        "# 2. Train a Bagging Regressor using Decision Trees and evaluate using Mean Squared Error (MSE)\n",
        "from sklearn.datasets import load_diabetes\n",
        "from sklearn.ensemble import BaggingRegressor\n",
        "from sklearn.tree import DecisionTreeRegressor\n",
        "from sklearn.model_selection import train_test_split\n",
        "from sklearn.metrics import mean_squared_error\n",
        "\n",
        "X, y = load_diabetes(return_X_y=True)\n",
        "X_train, X_test, y_train, y_test = train_test_split(X, y, random_state=42)\n",
        "\n",
        "bag_reg = BaggingRegressor(estimator=DecisionTreeRegressor(), n_estimators=50, random_state=42)\n",
        "bag_reg.fit(X_train, y_train)\n",
        "y_pred = bag_reg.predict(X_test)\n",
        "print(\"Bagging Regressor MSE:\", mean_squared_error(y_test, y_pred))\n"
      ],
      "metadata": {
        "colab": {
          "base_uri": "https://localhost:8080/"
        },
        "id": "WiIBYWfHBMMR",
        "outputId": "c7c5d4a5-c7e9-49ec-fd8a-fdf4ab0511c8"
      },
      "execution_count": 13,
      "outputs": [
        {
          "output_type": "stream",
          "name": "stdout",
          "text": [
            "Bagging Regressor MSE: 3096.3144324324335\n"
          ]
        }
      ]
    },
    {
      "cell_type": "code",
      "source": [
        "# 3. Train a Random Forest Classifier on the Breast Cancer dataset and print feature importance scores\n",
        "from sklearn.datasets import load_breast_cancer\n",
        "from sklearn.ensemble import RandomForestClassifier\n",
        "\n",
        "X, y = load_breast_cancer(return_X_y=True)\n",
        "X_train, X_test, y_train, y_test = train_test_split(X, y, random_state=42)\n",
        "\n",
        "rf_clf = RandomForestClassifier(n_estimators=100, random_state=42)\n",
        "rf_clf.fit(X_train, y_train)\n",
        "importances = rf_clf.feature_importances_\n",
        "\n",
        "for feature, score in zip(load_breast_cancer().feature_names, importances):\n",
        "    print(f\"{feature}: {score:.4f}\")\n"
      ],
      "metadata": {
        "colab": {
          "base_uri": "https://localhost:8080/"
        },
        "id": "h3h6qj7HBQ5q",
        "outputId": "18b3bf54-99f8-4161-9833-b3d05f567209"
      },
      "execution_count": 4,
      "outputs": [
        {
          "output_type": "stream",
          "name": "stdout",
          "text": [
            "mean radius: 0.0397\n",
            "mean texture: 0.0146\n",
            "mean perimeter: 0.0531\n",
            "mean area: 0.0428\n",
            "mean smoothness: 0.0082\n",
            "mean compactness: 0.0114\n",
            "mean concavity: 0.0832\n",
            "mean concave points: 0.0903\n",
            "mean symmetry: 0.0044\n",
            "mean fractal dimension: 0.0044\n",
            "radius error: 0.0195\n",
            "texture error: 0.0046\n",
            "perimeter error: 0.0087\n",
            "area error: 0.0436\n",
            "smoothness error: 0.0046\n",
            "compactness error: 0.0037\n",
            "concavity error: 0.0070\n",
            "concave points error: 0.0050\n",
            "symmetry error: 0.0037\n",
            "fractal dimension error: 0.0066\n",
            "worst radius: 0.0813\n",
            "worst texture: 0.0165\n",
            "worst perimeter: 0.0714\n",
            "worst area: 0.1232\n",
            "worst smoothness: 0.0103\n",
            "worst compactness: 0.0158\n",
            "worst concavity: 0.0317\n",
            "worst concave points: 0.1723\n",
            "worst symmetry: 0.0131\n",
            "worst fractal dimension: 0.0052\n"
          ]
        }
      ]
    },
    {
      "cell_type": "code",
      "source": [
        "# 4. Train a Random Forest Regressor and compare its performance with a single Decision Tree\n",
        "from sklearn.ensemble import RandomForestRegressor\n",
        "from sklearn.tree import DecisionTreeRegressor\n",
        "\n",
        "rf_reg = RandomForestRegressor(n_estimators=100, random_state=42)\n",
        "tree_reg = DecisionTreeRegressor(random_state=42)\n",
        "\n",
        "rf_reg.fit(X_train, y_train)\n",
        "tree_reg.fit(X_train, y_train)\n",
        "\n",
        "rf_pred = rf_reg.predict(X_test)\n",
        "tree_pred = tree_reg.predict(X_test)\n",
        "\n",
        "print(\"Random Forest MSE:\", mean_squared_error(y_test, rf_pred))\n",
        "print(\"Decision Tree MSE:\", mean_squared_error(y_test, tree_pred))\n"
      ],
      "metadata": {
        "colab": {
          "base_uri": "https://localhost:8080/"
        },
        "id": "_-IEmLD1BTq7",
        "outputId": "df24ef77-0db5-4b4d-cc9f-93f39040124b"
      },
      "execution_count": 5,
      "outputs": [
        {
          "output_type": "stream",
          "name": "stdout",
          "text": [
            "Random Forest MSE: 0.0337993006993007\n",
            "Decision Tree MSE: 0.04895104895104895\n"
          ]
        }
      ]
    },
    {
      "cell_type": "code",
      "source": [
        "# 5. Compute the Out-of-Bag (OOB) Score for a Random Forest Classifier\n",
        "rf_oob = RandomForestClassifier(n_estimators=100, oob_score=True, random_state=42)\n",
        "rf_oob.fit(X_train, y_train)\n",
        "print(\"OOB Score:\", rf_oob.oob_score_)\n"
      ],
      "metadata": {
        "colab": {
          "base_uri": "https://localhost:8080/"
        },
        "id": "yDrxYeI4BWW_",
        "outputId": "dd0519c6-cfdf-4afb-c2db-d5bda4126aaa"
      },
      "execution_count": 6,
      "outputs": [
        {
          "output_type": "stream",
          "name": "stdout",
          "text": [
            "OOB Score: 0.960093896713615\n"
          ]
        }
      ]
    },
    {
      "cell_type": "code",
      "source": [
        "# 6. Train a Bagging Classifier using SVM as a base estimator and print accuracy\n",
        "from sklearn.svm import SVC\n",
        "from sklearn.preprocessing import StandardScaler\n",
        "from sklearn.pipeline import make_pipeline\n",
        "\n",
        "svm_pipeline = make_pipeline(StandardScaler(), SVC(probability=True))\n",
        "bag_svm = BaggingClassifier(estimator=svm_pipeline, n_estimators=10, random_state=42)\n",
        "bag_svm.fit(X_train, y_train)\n",
        "y_pred = bag_svm.predict(X_test)\n",
        "print(\"Bagging SVM Classifier Accuracy:\", accuracy_score(y_test, y_pred))\n"
      ],
      "metadata": {
        "colab": {
          "base_uri": "https://localhost:8080/"
        },
        "id": "xz02hnS4BZU4",
        "outputId": "ff48179e-de75-4b4b-c4a1-16748fb44066"
      },
      "execution_count": 14,
      "outputs": [
        {
          "output_type": "stream",
          "name": "stdout",
          "text": [
            "Bagging SVM Classifier Accuracy: 0.009009009009009009\n"
          ]
        }
      ]
    },
    {
      "cell_type": "code",
      "source": [
        "# 7. Train a Random Forest Classifier with different numbers of trees and compare accuracy\n",
        "for n in [10, 50, 100, 200]:\n",
        "    clf = RandomForestClassifier(n_estimators=n, random_state=42)\n",
        "    clf.fit(X_train, y_train)\n",
        "    acc = accuracy_score(y_test, clf.predict(X_test))\n",
        "    print(f\"Accuracy with {n} trees: {acc}\")\n"
      ],
      "metadata": {
        "colab": {
          "base_uri": "https://localhost:8080/"
        },
        "id": "JHWBXzI5BbXH",
        "outputId": "bdc4a6e0-bca5-4286-c45b-a3ce32f693ef"
      },
      "execution_count": 8,
      "outputs": [
        {
          "output_type": "stream",
          "name": "stdout",
          "text": [
            "Accuracy with 10 trees: 0.951048951048951\n",
            "Accuracy with 50 trees: 0.972027972027972\n",
            "Accuracy with 100 trees: 0.965034965034965\n",
            "Accuracy with 200 trees: 0.965034965034965\n"
          ]
        }
      ]
    },
    {
      "cell_type": "code",
      "source": [
        "# 8. Train a Bagging Classifier using Logistic Regression as a base estimator and print AUC score\n",
        "from sklearn.datasets import load_breast_cancer\n",
        "from sklearn.ensemble import BaggingClassifier\n",
        "from sklearn.linear_model import LogisticRegression\n",
        "from sklearn.preprocessing import StandardScaler\n",
        "from sklearn.pipeline import make_pipeline\n",
        "from sklearn.model_selection import train_test_split\n",
        "from sklearn.metrics import roc_auc_score\n",
        "\n",
        "X, y = load_breast_cancer(return_X_y=True)\n",
        "X_train, X_test, y_train, y_test = train_test_split(X, y, stratify=y, random_state=42)\n",
        "\n",
        "log_pipeline = make_pipeline(StandardScaler(), LogisticRegression(max_iter=1000, solver='liblinear'))\n",
        "bag_log = BaggingClassifier(estimator=log_pipeline, n_estimators=10, random_state=42)\n",
        "bag_log.fit(X_train, y_train)\n",
        "y_prob = bag_log.predict_proba(X_test)[:, 1]\n",
        "print(\"Bagging Logistic Regression AUC:\", roc_auc_score(y_test, y_prob))\n"
      ],
      "metadata": {
        "colab": {
          "base_uri": "https://localhost:8080/"
        },
        "id": "4LaK-56wBdYI",
        "outputId": "873c072a-e0c2-454e-f0df-defeff5f5486"
      },
      "execution_count": 17,
      "outputs": [
        {
          "output_type": "stream",
          "name": "stdout",
          "text": [
            "Bagging Logistic Regression AUC: 0.9974842767295597\n"
          ]
        }
      ]
    },
    {
      "cell_type": "code",
      "source": [
        "# 9. Train a Random Forest Regressor and analyze feature importance scores\n",
        "rf_reg.fit(X_train, y_train)\n",
        "importances = rf_reg.feature_importances_\n",
        "\n",
        "for feature, score in zip(load_diabetes().feature_names, importances):\n",
        "    print(f\"{feature}: {score:.4f}\")\n"
      ],
      "metadata": {
        "colab": {
          "base_uri": "https://localhost:8080/"
        },
        "id": "Mshck8YDBgdr",
        "outputId": "53550d82-7716-45a7-f1f7-7f59086a4dd6"
      },
      "execution_count": 10,
      "outputs": [
        {
          "output_type": "stream",
          "name": "stdout",
          "text": [
            "age: 0.0041\n",
            "sex: 0.0176\n",
            "bmi: 0.0031\n",
            "bp: 0.0063\n",
            "s1: 0.0034\n",
            "s2: 0.0007\n",
            "s3: 0.0019\n",
            "s4: 0.3210\n",
            "s5: 0.0020\n",
            "s6: 0.0030\n"
          ]
        }
      ]
    },
    {
      "cell_type": "code",
      "source": [
        "# 10. Train an ensemble model using both Bagging and Random Forest and compare accuracy\n",
        "from sklearn.ensemble import RandomForestClassifier\n",
        "\n",
        "bag_model = BaggingClassifier(estimator=DecisionTreeClassifier(), n_estimators=50, random_state=42)\n",
        "rf_model = RandomForestClassifier(n_estimators=50, random_state=42)\n",
        "\n",
        "bag_model.fit(X_train, y_train)\n",
        "rf_model.fit(X_train, y_train)\n",
        "\n",
        "bag_acc = accuracy_score(y_test, bag_model.predict(X_test))\n",
        "rf_acc = accuracy_score(y_test, rf_model.predict(X_test))\n",
        "\n",
        "print(\"Bagging Accuracy:\", bag_acc)\n",
        "print(\"Random Forest Accuracy:\", rf_acc)\n"
      ],
      "metadata": {
        "colab": {
          "base_uri": "https://localhost:8080/"
        },
        "id": "t9hoVkoBBiv-",
        "outputId": "aac57e49-69e6-47af-f454-8b4e1f620053"
      },
      "execution_count": 16,
      "outputs": [
        {
          "output_type": "stream",
          "name": "stdout",
          "text": [
            "Bagging Accuracy: 0.0\n",
            "Random Forest Accuracy: 0.009009009009009009\n"
          ]
        }
      ]
    },
    {
      "cell_type": "code",
      "source": [
        "# 11. Train a Random Forest Classifier and tune hyperparameters using GridSearchCV\n",
        "from sklearn.datasets import load_breast_cancer\n",
        "from sklearn.ensemble import RandomForestClassifier\n",
        "from sklearn.model_selection import GridSearchCV, train_test_split\n",
        "\n",
        "X, y = load_breast_cancer(return_X_y=True)\n",
        "X_train, X_test, y_train, y_test = train_test_split(X, y, stratify=y, random_state=42)\n",
        "\n",
        "param_grid = {\n",
        "    'n_estimators': [50, 100],\n",
        "    'max_depth': [None, 5, 10],\n",
        "    'min_samples_split': [2, 5]\n",
        "}\n",
        "\n",
        "grid_search = GridSearchCV(RandomForestClassifier(random_state=42), param_grid, cv=5, scoring='accuracy')\n",
        "grid_search.fit(X_train, y_train)\n",
        "print(\"Best Parameters:\", grid_search.best_params_)\n",
        "print(\"Best Accuracy:\", grid_search.best_score_)\n"
      ],
      "metadata": {
        "colab": {
          "base_uri": "https://localhost:8080/"
        },
        "id": "s9ZRXrAJBlOh",
        "outputId": "c1205f21-337e-4017-bccf-a67a83ddc5eb"
      },
      "execution_count": 18,
      "outputs": [
        {
          "output_type": "stream",
          "name": "stdout",
          "text": [
            "Best Parameters: {'max_depth': None, 'min_samples_split': 2, 'n_estimators': 100}\n",
            "Best Accuracy: 0.9600547195622434\n"
          ]
        }
      ]
    },
    {
      "cell_type": "code",
      "source": [
        "# 12. Train a Bagging Regressor with different numbers of base estimators and compare performance\n",
        "from sklearn.datasets import load_diabetes\n",
        "from sklearn.ensemble import BaggingRegressor\n",
        "from sklearn.tree import DecisionTreeRegressor\n",
        "from sklearn.metrics import mean_squared_error\n",
        "\n",
        "X, y = load_diabetes(return_X_y=True)\n",
        "X_train, X_test, y_train, y_test = train_test_split(X, y, random_state=42)\n",
        "\n",
        "for n in [10, 50, 100]:\n",
        "    model = BaggingRegressor(estimator=DecisionTreeRegressor(), n_estimators=n, random_state=42)\n",
        "    model.fit(X_train, y_train)\n",
        "    y_pred = model.predict(X_test)\n",
        "    print(f\"Estimators: {n}, MSE: {mean_squared_error(y_test, y_pred)}\")\n"
      ],
      "metadata": {
        "colab": {
          "base_uri": "https://localhost:8080/"
        },
        "id": "FsO9jZwYEo_k",
        "outputId": "4f5940b0-423a-471e-8a86-616e37673c25"
      },
      "execution_count": 19,
      "outputs": [
        {
          "output_type": "stream",
          "name": "stdout",
          "text": [
            "Estimators: 10, MSE: 3333.257117117116\n",
            "Estimators: 50, MSE: 3096.3144324324335\n",
            "Estimators: 100, MSE: 3028.580902702703\n"
          ]
        }
      ]
    },
    {
      "cell_type": "code",
      "source": [
        "# 13. Train a Random Forest Classifier and analyze misclassified samples\n",
        "from sklearn.metrics import confusion_matrix\n",
        "\n",
        "rf = RandomForestClassifier(random_state=42)\n",
        "rf.fit(X_train, y_train)\n",
        "y_pred = rf.predict(X_test)\n",
        "\n",
        "misclassified = (y_test != y_pred)\n",
        "print(\"Misclassified sample indices:\", [i for i, m in enumerate(misclassified) if m])\n"
      ],
      "metadata": {
        "colab": {
          "base_uri": "https://localhost:8080/"
        },
        "id": "a0uXf4R9EwKn",
        "outputId": "08aa427d-daf2-4c4c-adbf-09f8fe79c357"
      },
      "execution_count": 20,
      "outputs": [
        {
          "output_type": "stream",
          "name": "stdout",
          "text": [
            "Misclassified sample indices: [0, 1, 2, 3, 4, 5, 6, 7, 8, 9, 10, 11, 12, 13, 14, 15, 16, 17, 18, 19, 20, 21, 22, 23, 24, 25, 26, 27, 28, 29, 30, 31, 32, 33, 34, 35, 36, 37, 38, 39, 40, 41, 42, 43, 44, 45, 46, 47, 48, 49, 50, 51, 52, 53, 54, 55, 56, 57, 58, 59, 60, 61, 62, 63, 64, 65, 66, 67, 68, 69, 70, 71, 72, 73, 74, 75, 76, 77, 78, 79, 80, 81, 82, 83, 84, 85, 86, 87, 88, 89, 90, 91, 92, 93, 94, 95, 96, 97, 98, 99, 100, 101, 102, 103, 104, 105, 106, 107, 108, 109, 110]\n"
          ]
        }
      ]
    },
    {
      "cell_type": "code",
      "source": [
        "# 14. Train a Bagging Classifier and compare its performance with a single Decision Tree Classifier\n",
        "from sklearn.metrics import accuracy_score\n",
        "\n",
        "tree = DecisionTreeClassifier()\n",
        "bag = BaggingClassifier(estimator=DecisionTreeClassifier(), n_estimators=50, random_state=42)\n",
        "\n",
        "tree.fit(X_train, y_train)\n",
        "bag.fit(X_train, y_train)\n",
        "\n",
        "print(\"Decision Tree Accuracy:\", accuracy_score(y_test, tree.predict(X_test)))\n",
        "print(\"Bagging Classifier Accuracy:\", accuracy_score(y_test, bag.predict(X_test)))\n"
      ],
      "metadata": {
        "colab": {
          "base_uri": "https://localhost:8080/"
        },
        "id": "AaE6b2lzEyU5",
        "outputId": "517e7e99-854c-4978-9b28-d7b03ae30dea"
      },
      "execution_count": 21,
      "outputs": [
        {
          "output_type": "stream",
          "name": "stdout",
          "text": [
            "Decision Tree Accuracy: 0.0\n",
            "Bagging Classifier Accuracy: 0.0\n"
          ]
        }
      ]
    },
    {
      "cell_type": "code",
      "source": [
        "# 15. Train a Random Forest Classifier and visualize the confusion matrix\n",
        "import matplotlib.pyplot as plt\n",
        "from sklearn.metrics import ConfusionMatrixDisplay\n",
        "\n",
        "rf = RandomForestClassifier(random_state=42)\n",
        "rf.fit(X_train, y_train)\n",
        "ConfusionMatrixDisplay.from_estimator(rf, X_test, y_test)\n",
        "plt.title(\"Random Forest Confusion Matrix\")\n",
        "plt.show()\n"
      ],
      "metadata": {
        "colab": {
          "base_uri": "https://localhost:8080/",
          "height": 472
        },
        "id": "9Ikf7hssE05X",
        "outputId": "cbb6fea2-99b1-4905-dd9c-784e2836f6ad"
      },
      "execution_count": 22,
      "outputs": [
        {
          "output_type": "display_data",
          "data": {
            "text/plain": [
              "<Figure size 640x480 with 2 Axes>"
            ],
            "image/png": "[encoded data removed]"
          },
          "metadata": {}
        }
      ]
    },
    {
      "cell_type": "code",
      "source": [
        "# 16. Train a Stacking Classifier using Decision Trees, SVM, and Logistic Regression, and compare accuracy\n",
        "from sklearn.ensemble import StackingClassifier\n",
        "from sklearn.svm import SVC\n",
        "from sklearn.linear_model import LogisticRegression\n",
        "\n",
        "estimators = [\n",
        "    ('dt', DecisionTreeClassifier()),\n",
        "    ('svm', make_pipeline(StandardScaler(), SVC(probability=True)))\n",
        "]\n",
        "\n",
        "stack = StackingClassifier(estimators=estimators, final_estimator=LogisticRegression())\n",
        "stack.fit(X_train, y_train)\n",
        "print(\"Stacking Classifier Accuracy:\", stack.score(X_test, y_test))\n"
      ],
      "metadata": {
        "colab": {
          "base_uri": "https://localhost:8080/"
        },
        "id": "jmGWZkXyE3UU",
        "outputId": "5fc9e172-2c0e-4f91-ce92-1d45a87118bd"
      },
      "execution_count": 23,
      "outputs": [
        {
          "output_type": "stream",
          "name": "stderr",
          "text": [
            "/usr/local/lib/python3.11/dist-packages/sklearn/model_selection/_split.py:805: UserWarning: The least populated class in y has only 1 members, which is less than n_splits=5.\n",
            "  warnings.warn(\n",
            "/usr/local/lib/python3.11/dist-packages/sklearn/model_selection/_validation.py:1380: RuntimeWarning: Number of classes in training fold (176) does not match total number of classes (196). Results may not be appropriate for your use case. To fix this, use a cross-validation technique resulting in properly stratified folds\n",
            "  warnings.warn(\n",
            "/usr/local/lib/python3.11/dist-packages/sklearn/model_selection/_validation.py:1380: RuntimeWarning: Number of classes in training fold (175) does not match total number of classes (196). Results may not be appropriate for your use case. To fix this, use a cross-validation technique resulting in properly stratified folds\n",
            "  warnings.warn(\n",
            "/usr/local/lib/python3.11/dist-packages/sklearn/model_selection/_validation.py:1380: RuntimeWarning: Number of classes in training fold (170) does not match total number of classes (196). Results may not be appropriate for your use case. To fix this, use a cross-validation technique resulting in properly stratified folds\n",
            "  warnings.warn(\n",
            "/usr/local/lib/python3.11/dist-packages/sklearn/model_selection/_validation.py:1380: RuntimeWarning: Number of classes in training fold (178) does not match total number of classes (196). Results may not be appropriate for your use case. To fix this, use a cross-validation technique resulting in properly stratified folds\n",
            "  warnings.warn(\n",
            "/usr/local/lib/python3.11/dist-packages/sklearn/model_selection/_validation.py:1380: RuntimeWarning: Number of classes in training fold (179) does not match total number of classes (196). Results may not be appropriate for your use case. To fix this, use a cross-validation technique resulting in properly stratified folds\n",
            "  warnings.warn(\n",
            "/usr/local/lib/python3.11/dist-packages/sklearn/model_selection/_split.py:805: UserWarning: The least populated class in y has only 1 members, which is less than n_splits=5.\n",
            "  warnings.warn(\n",
            "/usr/local/lib/python3.11/dist-packages/sklearn/model_selection/_validation.py:1380: RuntimeWarning: Number of classes in training fold (176) does not match total number of classes (196). Results may not be appropriate for your use case. To fix this, use a cross-validation technique resulting in properly stratified folds\n",
            "  warnings.warn(\n",
            "/usr/local/lib/python3.11/dist-packages/sklearn/model_selection/_validation.py:1380: RuntimeWarning: Number of classes in training fold (175) does not match total number of classes (196). Results may not be appropriate for your use case. To fix this, use a cross-validation technique resulting in properly stratified folds\n",
            "  warnings.warn(\n",
            "/usr/local/lib/python3.11/dist-packages/sklearn/model_selection/_validation.py:1380: RuntimeWarning: Number of classes in training fold (170) does not match total number of classes (196). Results may not be appropriate for your use case. To fix this, use a cross-validation technique resulting in properly stratified folds\n",
            "  warnings.warn(\n",
            "/usr/local/lib/python3.11/dist-packages/sklearn/model_selection/_validation.py:1380: RuntimeWarning: Number of classes in training fold (178) does not match total number of classes (196). Results may not be appropriate for your use case. To fix this, use a cross-validation technique resulting in properly stratified folds\n",
            "  warnings.warn(\n",
            "/usr/local/lib/python3.11/dist-packages/sklearn/model_selection/_validation.py:1380: RuntimeWarning: Number of classes in training fold (179) does not match total number of classes (196). Results may not be appropriate for your use case. To fix this, use a cross-validation technique resulting in properly stratified folds\n",
            "  warnings.warn(\n"
          ]
        },
        {
          "output_type": "stream",
          "name": "stdout",
          "text": [
            "Stacking Classifier Accuracy: 0.0\n"
          ]
        }
      ]
    },
    {
      "cell_type": "code",
      "source": [
        "# 17. Train a Random Forest Classifier and print the top 5 most important features\n",
        "rf = RandomForestClassifier(random_state=42)\n",
        "rf.fit(X_train, y_train)\n",
        "importances = rf.feature_importances_\n",
        "top_indices = importances.argsort()[-5:][::-1]\n",
        "features = load_breast_cancer().feature_names\n",
        "for idx in top_indices:\n",
        "    print(f\"{features[idx]}: {importances[idx]:.4f}\")\n"
      ],
      "metadata": {
        "colab": {
          "base_uri": "https://localhost:8080/"
        },
        "id": "KQH4latzFA4P",
        "outputId": "cc46e3a2-c770-44eb-f8cb-73ea38e2dfc4"
      },
      "execution_count": 24,
      "outputs": [
        {
          "output_type": "stream",
          "name": "stdout",
          "text": [
            "mean perimeter: 0.1211\n",
            "mean symmetry: 0.1191\n",
            "mean area: 0.1180\n",
            "mean fractal dimension: 0.1146\n",
            "mean smoothness: 0.1112\n"
          ]
        }
      ]
    },
    {
      "cell_type": "code",
      "source": [
        "# 18. Train a Bagging Classifier and evaluate performance using Precision, Recall, and F1-score\n",
        "from sklearn.datasets import load_breast_cancer\n",
        "from sklearn.ensemble import BaggingClassifier\n",
        "from sklearn.tree import DecisionTreeClassifier\n",
        "from sklearn.model_selection import train_test_split\n",
        "from sklearn.metrics import precision_score, recall_score, f1_score\n",
        "\n",
        "X, y = load_breast_cancer(return_X_y=True)\n",
        "X_train, X_test, y_train, y_test = train_test_split(X, y, stratify=y, random_state=42)\n",
        "\n",
        "bag = BaggingClassifier(estimator=DecisionTreeClassifier(), n_estimators=50, random_state=42)\n",
        "bag.fit(X_train, y_train)\n",
        "y_pred = bag.predict(X_test)\n",
        "\n",
        "print(\"Precision:\", precision_score(y_test, y_pred, average='binary'))\n",
        "print(\"Recall:\", recall_score(y_test, y_pred, average='binary'))\n",
        "print(\"F1-score:\", f1_score(y_test, y_pred, average='binary'))\n"
      ],
      "metadata": {
        "colab": {
          "base_uri": "https://localhost:8080/"
        },
        "id": "fh7CKInkFIdp",
        "outputId": "3b4f2cf5-5cf7-4a35-bad3-dea7a9cb4e29"
      },
      "execution_count": 33,
      "outputs": [
        {
          "output_type": "stream",
          "name": "stdout",
          "text": [
            "Precision: 0.9560439560439561\n",
            "Recall: 0.9666666666666667\n",
            "F1-score: 0.9613259668508287\n"
          ]
        }
      ]
    },
    {
      "cell_type": "code",
      "source": [
        "# 19. Train a Random Forest Classifier and analyze the effect of max_depth on accuracy\n",
        "for depth in [None, 5, 10, 15]:\n",
        "    rf = RandomForestClassifier(max_depth=depth, random_state=42)\n",
        "    rf.fit(X_train, y_train)\n",
        "    acc = accuracy_score(y_test, rf.predict(X_test))\n",
        "    print(f\"Max Depth: {depth}, Accuracy: {acc}\")\n"
      ],
      "metadata": {
        "colab": {
          "base_uri": "https://localhost:8080/"
        },
        "id": "vWx_-YevFKVd",
        "outputId": "61b96941-af18-44a8-ac9e-b7ac13bf1d2e"
      },
      "execution_count": 26,
      "outputs": [
        {
          "output_type": "stream",
          "name": "stdout",
          "text": [
            "Max Depth: None, Accuracy: 0.0\n",
            "Max Depth: 5, Accuracy: 0.0\n",
            "Max Depth: 10, Accuracy: 0.0\n",
            "Max Depth: 15, Accuracy: 0.0\n"
          ]
        }
      ]
    },
    {
      "cell_type": "code",
      "source": [
        "# 20. Train a Bagging Regressor using different base estimators (DecisionTree and KNeighbors) and compare performance\n",
        "from sklearn.neighbors import KNeighborsRegressor\n",
        "\n",
        "for estimator in [DecisionTreeRegressor(), KNeighborsRegressor()]:\n",
        "    name = estimator.__class__.__name__\n",
        "    model = BaggingRegressor(estimator=estimator, n_estimators=50, random_state=42)\n",
        "    model.fit(X_train, y_train)\n",
        "    y_pred = model.predict(X_test)\n",
        "    print(f\"{name} MSE:\", mean_squared_error(y_test, y_pred))\n"
      ],
      "metadata": {
        "colab": {
          "base_uri": "https://localhost:8080/"
        },
        "id": "YUJb8tXpFNAB",
        "outputId": "f7746c43-cad1-49ba-e9a9-a4c8501b3e32"
      },
      "execution_count": 27,
      "outputs": [
        {
          "output_type": "stream",
          "name": "stdout",
          "text": [
            "DecisionTreeRegressor MSE: 3096.3144324324335\n",
            "KNeighborsRegressor MSE: 2986.6139022702705\n"
          ]
        }
      ]
    },
    {
      "cell_type": "code",
      "source": [
        "# 21. Train a Random Forest Classifier and evaluate its performance using ROC-AUC Score\n",
        "from sklearn.ensemble import RandomForestClassifier\n",
        "from sklearn.metrics import roc_auc_score\n",
        "from sklearn.datasets import load_breast_cancer\n",
        "from sklearn.model_selection import train_test_split\n",
        "\n",
        "X, y = load_breast_cancer(return_X_y=True)\n",
        "X_train, X_test, y_train, y_test = train_test_split(X, y, stratify=y, random_state=42)\n",
        "\n",
        "rf = RandomForestClassifier(random_state=42)\n",
        "rf.fit(X_train, y_train)\n",
        "y_prob = rf.predict_proba(X_test)[:, 1]\n",
        "print(\"ROC AUC Score:\", roc_auc_score(y_test, y_prob))\n"
      ],
      "metadata": {
        "colab": {
          "base_uri": "https://localhost:8080/"
        },
        "id": "mLDicbTaFPfl",
        "outputId": "49b8eb2f-7812-4f83-f221-3a774236e52c"
      },
      "execution_count": 34,
      "outputs": [
        {
          "output_type": "stream",
          "name": "stdout",
          "text": [
            "ROC AUC Score: 0.9949685534591195\n"
          ]
        }
      ]
    },
    {
      "cell_type": "code",
      "source": [
        "# 22. Train a Bagging Classifier and evaluate its performance using cross-validation\n",
        "from sklearn.model_selection import cross_val_score\n",
        "\n",
        "bag = BaggingClassifier(estimator=DecisionTreeClassifier(), n_estimators=50, random_state=42)\n",
        "scores = cross_val_score(bag, X, y, cv=5, scoring='accuracy')\n",
        "print(\"Cross-validation Accuracy Scores:\", scores)\n",
        "print(\"Mean Accuracy:\", scores.mean())\n"
      ],
      "metadata": {
        "colab": {
          "base_uri": "https://localhost:8080/"
        },
        "id": "OFbo7tHZFRZh",
        "outputId": "3a4e0b0b-60b6-4f19-bfcd-de72efe43db4"
      },
      "execution_count": 29,
      "outputs": [
        {
          "output_type": "stream",
          "name": "stderr",
          "text": [
            "/usr/local/lib/python3.11/dist-packages/sklearn/model_selection/_split.py:805: UserWarning: The least populated class in y has only 1 members, which is less than n_splits=5.\n",
            "  warnings.warn(\n"
          ]
        },
        {
          "output_type": "stream",
          "name": "stdout",
          "text": [
            "Cross-validation Accuracy Scores: [0.         0.01123596 0.03409091 0.         0.        ]\n",
            "Mean Accuracy: 0.009065372829417773\n"
          ]
        }
      ]
    },
    {
      "cell_type": "code",
      "source": [
        "# 23. Train a Random Forest Classifier and plot the Precision-Recall curve\n",
        "from sklearn.ensemble import RandomForestClassifier\n",
        "from sklearn.metrics import precision_recall_curve, PrecisionRecallDisplay\n",
        "from sklearn.datasets import load_breast_cancer\n",
        "from sklearn.model_selection import train_test_split\n",
        "import matplotlib.pyplot as plt\n",
        "\n",
        "X, y = load_breast_cancer(return_X_y=True)\n",
        "X_train, X_test, y_train, y_test = train_test_split(X, y, stratify=y, random_state=42)\n",
        "\n",
        "rf = RandomForestClassifier(random_state=42)\n",
        "rf.fit(X_train, y_train)\n",
        "y_scores = rf.predict_proba(X_test)[:, 1]\n",
        "\n",
        "precision, recall, _ = precision_recall_curve(y_test, y_scores)\n",
        "disp = PrecisionRecallDisplay(precision=precision, recall=recall)\n",
        "disp.plot()\n",
        "plt.title(\"Precision-Recall Curve\")\n",
        "plt.show()\n"
      ],
      "metadata": {
        "colab": {
          "base_uri": "https://localhost:8080/",
          "height": 472
        },
        "id": "P6RjveBiFTKh",
        "outputId": "efd850bd-cd4c-4892-e66f-c336ff03550c"
      },
      "execution_count": 35,
      "outputs": [
        {
          "output_type": "display_data",
          "data": {
            "text/plain": [
              "<Figure size 640x480 with 1 Axes>"
            ],
            "image/png": "[encoded data removed]"
          },
          "metadata": {}
        }
      ]
    },
    {
      "cell_type": "code",
      "source": [
        "# 24. Train a Stacking Classifier with Random Forest and Logistic Regression and compare accuracy\n",
        "estimators = [\n",
        "    ('rf', RandomForestClassifier(random_state=42)),\n",
        "    ('log', make_pipeline(StandardScaler(), LogisticRegression(max_iter=1000)))\n",
        "]\n",
        "\n",
        "stack = StackingClassifier(estimators=estimators, final_estimator=LogisticRegression())\n",
        "stack.fit(X_train, y_train)\n",
        "print(\"Stacking Accuracy:\", stack.score(X_test, y_test))\n"
      ],
      "metadata": {
        "colab": {
          "base_uri": "https://localhost:8080/"
        },
        "id": "NP6EwZe7FWD8",
        "outputId": "02fcc314-88c2-4fbc-e8ee-8d65b09ca4ed"
      },
      "execution_count": 31,
      "outputs": [
        {
          "output_type": "stream",
          "name": "stderr",
          "text": [
            "/usr/local/lib/python3.11/dist-packages/sklearn/model_selection/_split.py:805: UserWarning: The least populated class in y has only 1 members, which is less than n_splits=5.\n",
            "  warnings.warn(\n",
            "/usr/local/lib/python3.11/dist-packages/sklearn/model_selection/_validation.py:1380: RuntimeWarning: Number of classes in training fold (176) does not match total number of classes (196). Results may not be appropriate for your use case. To fix this, use a cross-validation technique resulting in properly stratified folds\n",
            "  warnings.warn(\n",
            "/usr/local/lib/python3.11/dist-packages/sklearn/model_selection/_validation.py:1380: RuntimeWarning: Number of classes in training fold (175) does not match total number of classes (196). Results may not be appropriate for your use case. To fix this, use a cross-validation technique resulting in properly stratified folds\n",
            "  warnings.warn(\n",
            "/usr/local/lib/python3.11/dist-packages/sklearn/model_selection/_validation.py:1380: RuntimeWarning: Number of classes in training fold (170) does not match total number of classes (196). Results may not be appropriate for your use case. To fix this, use a cross-validation technique resulting in properly stratified folds\n",
            "  warnings.warn(\n",
            "/usr/local/lib/python3.11/dist-packages/sklearn/model_selection/_validation.py:1380: RuntimeWarning: Number of classes in training fold (178) does not match total number of classes (196). Results may not be appropriate for your use case. To fix this, use a cross-validation technique resulting in properly stratified folds\n",
            "  warnings.warn(\n",
            "/usr/local/lib/python3.11/dist-packages/sklearn/model_selection/_validation.py:1380: RuntimeWarning: Number of classes in training fold (179) does not match total number of classes (196). Results may not be appropriate for your use case. To fix this, use a cross-validation technique resulting in properly stratified folds\n",
            "  warnings.warn(\n",
            "/usr/local/lib/python3.11/dist-packages/sklearn/model_selection/_split.py:805: UserWarning: The least populated class in y has only 1 members, which is less than n_splits=5.\n",
            "  warnings.warn(\n",
            "/usr/local/lib/python3.11/dist-packages/sklearn/model_selection/_validation.py:1380: RuntimeWarning: Number of classes in training fold (176) does not match total number of classes (196). Results may not be appropriate for your use case. To fix this, use a cross-validation technique resulting in properly stratified folds\n",
            "  warnings.warn(\n",
            "/usr/local/lib/python3.11/dist-packages/sklearn/model_selection/_validation.py:1380: RuntimeWarning: Number of classes in training fold (175) does not match total number of classes (196). Results may not be appropriate for your use case. To fix this, use a cross-validation technique resulting in properly stratified folds\n",
            "  warnings.warn(\n",
            "/usr/local/lib/python3.11/dist-packages/sklearn/model_selection/_validation.py:1380: RuntimeWarning: Number of classes in training fold (170) does not match total number of classes (196). Results may not be appropriate for your use case. To fix this, use a cross-validation technique resulting in properly stratified folds\n",
            "  warnings.warn(\n",
            "/usr/local/lib/python3.11/dist-packages/sklearn/model_selection/_validation.py:1380: RuntimeWarning: Number of classes in training fold (178) does not match total number of classes (196). Results may not be appropriate for your use case. To fix this, use a cross-validation technique resulting in properly stratified folds\n",
            "  warnings.warn(\n",
            "/usr/local/lib/python3.11/dist-packages/sklearn/model_selection/_validation.py:1380: RuntimeWarning: Number of classes in training fold (179) does not match total number of classes (196). Results may not be appropriate for your use case. To fix this, use a cross-validation technique resulting in properly stratified folds\n",
            "  warnings.warn(\n"
          ]
        },
        {
          "output_type": "stream",
          "name": "stdout",
          "text": [
            "Stacking Accuracy: 0.009009009009009009\n"
          ]
        }
      ]
    },
    {
      "cell_type": "code",
      "source": [
        "# 25. Train a Bagging Regressor with different levels of bootstrap samples and compare performance\n",
        "for max_samples in [0.5, 0.7, 1.0]:\n",
        "    bag = BaggingRegressor(estimator=DecisionTreeRegressor(), n_estimators=50, max_samples=max_samples, random_state=42)\n",
        "    bag.fit(X_train, y_train)\n",
        "    y_pred = bag.predict(X_test)\n",
        "    print(f\"Max Samples: {max_samples}, MSE: {mean_squared_error(y_test, y_pred)}\")\n"
      ],
      "metadata": {
        "colab": {
          "base_uri": "https://localhost:8080/"
        },
        "id": "RSVEqukyFYbz",
        "outputId": "888b0822-ee4e-497f-b9b8-44fb3d6c7bf9"
      },
      "execution_count": 32,
      "outputs": [
        {
          "output_type": "stream",
          "name": "stdout",
          "text": [
            "Max Samples: 0.5, MSE: 2998.6932\n",
            "Max Samples: 0.7, MSE: 2892.7070090090083\n",
            "Max Samples: 1.0, MSE: 3096.3144324324335\n"
          ]
        }
      ]
    },
    {
      "cell_type": "code",
      "source": [],
      "metadata": {
        "id": "KW4QXhlIFccf"
      },
      "execution_count": null,
      "outputs": []
    }
  ]
}